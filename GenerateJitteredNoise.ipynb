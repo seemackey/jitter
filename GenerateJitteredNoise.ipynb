{
 "cells": [
  {
   "cell_type": "code",
   "execution_count": 9,
   "metadata": {},
   "outputs": [],
   "source": [
    "import numpy as np\n",
    "from scipy.signal import butter, filtfilt\n",
    "from scipy.io.wavfile import write\n",
    "import sounddevice as sd\n",
    "import matplotlib.pyplot as plt\n",
    "\n",
    "def bandpass_filter(data, lowcut, highcut, fs, order=5):\n",
    "    b, a = butter(order, [lowcut / (0.5 * fs), highcut / (0.5 * fs)], btype='band')\n",
    "    return filtfilt(b, a, data)\n",
    "\n",
    "def add_ramps(data, ramp_duration, fs):\n",
    "    ramp_samples = int(ramp_duration * fs)\n",
    "    ramp_up = np.linspace(0, 1, ramp_samples)\n",
    "    ramp_down = np.linspace(1, 0, ramp_samples)\n",
    "    data[:ramp_samples] *= ramp_up\n",
    "    data[-ramp_samples:] *= ramp_down\n",
    "    return data\n",
    "\n",
    "def generate_sine_wave_noise(duration, fs, center_freq, width=1/3, ramp_duration=0.01):\n",
    "    # Calculate lowcut and highcut for 1/3 octave\n",
    "    factor = 2 ** (width / 2)\n",
    "    lowcut = center_freq / factor\n",
    "    highcut = center_freq * factor\n",
    "    \n",
    "    # Time axis\n",
    "    t = np.linspace(0, duration, int(fs * duration), endpoint=False)\n",
    "    \n",
    "    # Initialize noise\n",
    "    noise = np.zeros_like(t)\n",
    "    \n",
    "    # Generate 2000 sine waves with random frequencies and phases within the band\n",
    "    for _ in range(2000):\n",
    "        freq = np.random.uniform(lowcut, highcut)\n",
    "        phase = np.random.uniform(0, 2 * np.pi)\n",
    "        sine_wave = np.sin(2 * np.pi * freq * t + phase)\n",
    "        noise += sine_wave\n",
    "    \n",
    "    # Apply ramps before normalizing\n",
    "    noise = add_ramps(noise, ramp_duration, fs)\n",
    "    \n",
    "    # Normalize the noise to have a peak-to-peak amplitude of -1 to 1 after applying ramps\n",
    "    noise /= np.max(np.abs(noise))\n",
    "    \n",
    "    return noise\n",
    "\n",
    "\n",
    "def generate_intervals(repetition_rate, jitter, duration, fs):\n",
    "    mean_interval = 1 / repetition_rate\n",
    "    intervals = np.abs(np.random.normal(mean_interval, jitter, int(duration / mean_interval)))\n",
    "    return intervals\n",
    "\n",
    "def plot_fft(data, fs, xmin=20, xmax=5000):  # Adjusted xmin to 20 Hz for logarithmic scale\n",
    "    fft_data = np.fft.fft(data)\n",
    "    freqs = np.fft.fftfreq(len(fft_data), 1/fs)\n",
    "    half_len = len(freqs) // 2  # Only plotting the positive frequencies\n",
    "\n",
    "    # Filtering out the frequencies and FFT data for positive frequencies and within xmin and xmax\n",
    "    valid_indices = np.where((freqs > 0) & (freqs <= xmax))\n",
    "    valid_freqs = freqs[valid_indices][:half_len]\n",
    "    valid_fft_data = np.abs(fft_data)[valid_indices][:half_len]\n",
    "\n",
    "    plt.plot(valid_freqs, valid_fft_data)\n",
    "    plt.title('FFT of the Noise Burst')\n",
    "    plt.xlabel('Frequency (Hz)')\n",
    "    plt.ylabel('Amplitude')\n",
    "    plt.xlim(xmin, xmax)\n",
    "    plt.xscale('log')  # Set the x-axis to a logarithmic scale\n",
    "    plt.show()\n",
    "\n",
    "\n",
    "def create_sound_stream(center_freq, repetition_rate, jitter=0, duration=10, noise_duration=0.1, fs=44100, rhythmic=True):\n",
    "    intervals = generate_intervals(repetition_rate, jitter, duration, fs) if not rhythmic else np.full(int(duration * repetition_rate), 1 / repetition_rate)\n",
    "    \n",
    "    sound_stream = np.array([])\n",
    "    for interval in intervals:\n",
    "        # Generate noise burst of specified duration\n",
    "        noise = generate_sine_wave_noise(noise_duration, fs, center_freq, width=1/3, ramp_duration=0.005)\n",
    "        # Add silence after the noise burst until the next interval starts\n",
    "        silence_duration = int((interval - noise_duration) * fs) if interval > noise_duration else 0\n",
    "        silence = np.zeros(silence_duration)\n",
    "        sound_stream = np.concatenate((sound_stream, noise, silence))\n",
    "    \n",
    "    # Normalize to prevent clipping\n",
    "    sound_stream = sound_stream / np.max(np.abs(sound_stream))\n",
    "    \n",
    "    return sound_stream\n",
    "\n",
    "\n",
    "\n"
   ]
  },
  {
   "cell_type": "code",
   "execution_count": 10,
   "metadata": {},
   "outputs": [
    {
     "data": {
      "image/png": "[encoded data removed]",
      "text/plain": [
       "<Figure size 432x288 with 1 Axes>"
      ]
     },
     "metadata": {
      "needs_background": "light"
     },
     "output_type": "display_data"
    },
    {
     "data": {
      "image/png": "[encoded data removed]",
      "text/plain": [
       "<Figure size 720x288 with 1 Axes>"
      ]
     },
     "metadata": {
      "needs_background": "light"
     },
     "output_type": "display_data"
    }
   ],
   "source": [
    "# Example usage\n",
    "fs = 44100  # Sampling frequency\n",
    "center_freq = 1000  # Center frequency of the noise\n",
    "repetition_rate = 1.6  # Repetition rate in Hz\n",
    "jitter = 0.1  # Standard deviation of the intervals in Sec., set to 0 for perfectly rhythmic. We used 0, 0.04,0.08,0.12. \n",
    "duration = 10  # Total duration of the sound stream in seconds\n",
    "noise_duration = 0.025  # Duration of each noise burst in seconds\n",
    "\n",
    "sound_stream = create_sound_stream(center_freq, repetition_rate, jitter, duration, noise_duration, fs, rhythmic=False)\n",
    "\n",
    "\n",
    "# Play sound\n",
    "sd.play(sound_stream, fs)\n",
    "sd.wait()\n",
    "\n",
    "# Save to file\n",
    "write('output_sound.wav', fs, sound_stream.astype(np.float32))\n",
    "\n",
    "# check spectrum of the noise\n",
    "plot_fft(sound_stream[:int(fs*noise_duration)], fs,100,4000)\n",
    "\n",
    "# check stream of noises\n",
    "time = np.arange(0, len(sound_stream)) / fs\n",
    "\n",
    "plt.figure(figsize=(10, 4))\n",
    "plt.plot(time, sound_stream)\n",
    "plt.title('Audio Stream')\n",
    "plt.xlabel('Time (s)')\n",
    "plt.ylabel('Amplitude')\n",
    "plt.show()\n",
    "\n",
    "\n",
    "# Play sound\n",
    "#sd.play(sound_stream, fs)\n",
    "#sd.wait()"
   ]
  },
  {
   "cell_type": "code",
   "execution_count": null,
   "metadata": {},
   "outputs": [],
   "source": []
  },
  {
   "cell_type": "code",
   "execution_count": null,
   "metadata": {},
   "outputs": [],
   "source": []
  }
 ],
 "metadata": {
  "kernelspec": {
   "display_name": "Python 3",
   "language": "python",
   "name": "python3"
  },
  "language_info": {
   "codemirror_mode": {
    "name": "ipython",
    "version": 3
   },
   "file_extension": ".py",
   "mimetype": "text/x-python",
   "name": "python",
   "nbconvert_exporter": "python",
   "pygments_lexer": "ipython3",
   "version": "3.8.5"
  }
 },
 "nbformat": 4,
 "nbformat_minor": 4
}
